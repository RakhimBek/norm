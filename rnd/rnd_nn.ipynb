{
 "cells": [
  {
   "cell_type": "code",
   "execution_count": 4,
   "metadata": {},
   "outputs": [],
   "source": [
    "import pandas as pd\n",
    "from sklearn.feature_extraction.text import TfidfVectorizer\n",
    "from sklearn.ensemble import RandomForestClassifier\n",
    "from sklearn.pipeline import Pipeline\n",
    "import os\n",
    "import gensim\n",
    "import nltk as nl"
   ]
  },
  {
   "cell_type": "code",
   "execution_count": 5,
   "metadata": {},
   "outputs": [],
   "source": [
    "df = pd.read_csv('bad.csv', sep=';')"
   ]
  },
  {
   "cell_type": "code",
   "execution_count": null,
   "metadata": {},
   "outputs": [],
   "source": [
    "tokens_arr = [nl.word_tokenize(sentences) for sentences in df['address'].values]\n",
    "df['vectors'] = vectorizer(tokens_arr)"
   ]
  },
  {
   "cell_type": "code",
   "execution_count": null,
   "metadata": {},
   "outputs": [],
   "source": [
    "df = shuffle(df)"
   ]
  },
  {
   "cell_type": "code",
   "execution_count": null,
   "metadata": {},
   "outputs": [],
   "source": [
    "from sklearn.model_selection import train_test_split"
   ]
  },
  {
   "cell_type": "code",
   "execution_count": null,
   "metadata": {},
   "outputs": [],
   "source": [
    "train, test = train_test_split(df, test_size=0.2, random_state=42)"
   ]
  },
  {
   "cell_type": "code",
   "execution_count": null,
   "metadata": {},
   "outputs": [],
   "source": [
    "x_val = np.array([x for x in val['vectors'].values])\n",
    "partial_x_train = np.array([x for x in partial_train['vectors'].values])\n",
    "x_test = np.array([x for x in test['vectors'].values])"
   ]
  },
  {
   "cell_type": "code",
   "execution_count": null,
   "metadata": {},
   "outputs": [],
   "source": [
    "from sklearn.preprocessing import LabelBinarizer"
   ]
  },
  {
   "cell_type": "code",
   "execution_count": null,
   "metadata": {},
   "outputs": [],
   "source": [
    "index = LabelBinarizer()\n",
    "city = LabelBinarizer()\n",
    "hous = LabelBinarizer()\n",
    "favella = LabelBinarizer()\n",
    "lane = LabelBinarizer()\n",
    "street = LabelBinarizer()\n",
    "area = LabelBinarizer()"
   ]
  },
  {
   "cell_type": "code",
   "execution_count": null,
   "metadata": {},
   "outputs": [],
   "source": [
    "import keras\n",
    "keras.__version__\n",
    "\n",
    "layer_1_size = 512\n",
    "layer_2_size = 256\n",
    "layer_3_size = 128\n",
    "layer_4_size = 128\n",
    "# layer_5_size = 256\n",
    "# layer_6_size = 128\n",
    "# layer_7_size = 128\n",
    "\n",
    "bsize = 1024"
   ]
  },
  {
   "cell_type": "code",
   "execution_count": null,
   "metadata": {},
   "outputs": [],
   "source": [
    "from keras.layers import Input, Embedding, LSTM, Dense\n",
    "from keras.models import Model\n",
    "\n",
    "main_input = Input(shape=(1024,), name='main_input')\n",
    "layer_1 = Dense(layer_1_size, activation='relu')(main_input)\n",
    "layer_2 = Dense(layer_2_size, activation='relu')(layer_1)\n",
    "layer_3 = Dense(layer_3_size, activation='relu')(layer_2)\n",
    "layer_4 = Dense(layer_4_size, activation='relu')(layer_3)\n",
    "\n",
    "\n",
    "output_1 = Dense(25, activation='softmax', name='output_1')(layer_4)\n",
    "output_2 = Dense(13, activation='softmax', name='output_2')(layer_4)\n",
    "output_3 = Dense(32, activation='softmax', name='output_3')(layer_4)\n",
    "output_4 = Dense(25, activation='softmax', name='output_4')(layer_4)\n",
    "output_5 = Dense(13, activation='softmax', name='output_5')(layer_4)\n",
    "output_6 = Dense(32, activation='softmax', name='output_6')(layer_4)\n",
    "output_7 = Dense(32, activation='softmax', name='output_7')(layer_4)\n",
    "\n",
    "model = Model(\n",
    "    inputs=[main_input], \n",
    "    outputs=[\n",
    "        output_1, \n",
    "        output_2,\n",
    "        output_3, \n",
    "        output_4,\n",
    "        output_5, \n",
    "        output_6,\n",
    "        output_7,\n",
    "    ],\n",
    ")"
   ]
  },
  {
   "cell_type": "code",
   "execution_count": null,
   "metadata": {},
   "outputs": [],
   "source": [
    "model.compile(\n",
    "    optimizer='rmsprop',\n",
    "    loss={\n",
    "        'output_1': 'categorical_crossentropy', \n",
    "        'output_2': 'categorical_crossentropy',\n",
    "        'output_3': 'categorical_crossentropy', \n",
    "        'output_4': 'categorical_crossentropy',\n",
    "        'output_5': 'categorical_crossentropy', \n",
    "        'output_6': 'categorical_crossentropy',\n",
    "        'output_7': 'categorical_crossentropy',\n",
    "    },\n",
    "    metrics=['accuracy']\n",
    ")"
   ]
  }
 ],
 "metadata": {
  "kernelspec": {
   "display_name": "Python 3",
   "language": "python",
   "name": "python3"
  },
  "language_info": {
   "codemirror_mode": {
    "name": "ipython",
    "version": 3
   },
   "file_extension": ".py",
   "mimetype": "text/x-python",
   "name": "python",
   "nbconvert_exporter": "python",
   "pygments_lexer": "ipython3",
   "version": "3.8.3"
  }
 },
 "nbformat": 4,
 "nbformat_minor": 4
}
